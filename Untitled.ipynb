{
 "cells": [
  {
   "cell_type": "code",
   "execution_count": 3,
   "id": "6f9294a2",
   "metadata": {},
   "outputs": [
    {
     "name": "stdout",
     "output_type": "stream",
     "text": [
      "Enter the student's score69\n",
      " Enter the avarage class score56\n",
      "the student has passed\n"
     ]
    }
   ],
   "source": [
    "\n",
    "student_score = int(input(\"Enter the student's score\"))\n",
    "avarage_class_score = int(input(\" Enter the avarage class score\"))\n",
    "\n",
    "\n",
    "if student_score >= 60 and student_score - 5 >= avarage_class_score :\n",
    "    print(\"the student has passed\")\n",
    "else:\n",
    "    print(\"the student has failed\")\n",
    "\n",
    "\n",
    "\n",
    "\n",
    "\n",
    "\n",
    "\n",
    "\n"
   ]
  },
  {
   "cell_type": "code",
   "execution_count": null,
   "id": "3a1a31bf",
   "metadata": {},
   "outputs": [],
   "source": [
    "\n"
   ]
  },
  {
   "cell_type": "code",
   "execution_count": null,
   "id": "a3d87d46",
   "metadata": {},
   "outputs": [],
   "source": []
  }
 ],
 "metadata": {
  "kernelspec": {
   "display_name": "Python 3",
   "language": "python",
   "name": "python3"
  },
  "language_info": {
   "codemirror_mode": {
    "name": "ipython",
    "version": 3
   },
   "file_extension": ".py",
   "mimetype": "text/x-python",
   "name": "python",
   "nbconvert_exporter": "python",
   "pygments_lexer": "ipython3",
   "version": "3.8.8"
  }
 },
 "nbformat": 4,
 "nbformat_minor": 5
}
